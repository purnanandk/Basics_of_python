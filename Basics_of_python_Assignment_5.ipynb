{
 "cells": [
  {
   "cell_type": "markdown",
   "id": "9636d70a",
   "metadata": {},
   "source": [
    "# Name : Purnanand Kulkarni\n",
    "## iNeuron Assignment 5"
   ]
  },
  {
   "cell_type": "markdown",
   "id": "74111ed8",
   "metadata": {},
   "source": [
    "Question 1]\\\n",
    "What does an empty dictionary's code look like?"
   ]
  },
  {
   "cell_type": "markdown",
   "id": "7c651056",
   "metadata": {},
   "source": [
    "Answer 1]\\\n",
    "dict() or {} can be considered as an empty dictionary."
   ]
  },
  {
   "cell_type": "markdown",
   "id": "571425fc",
   "metadata": {},
   "source": [
    "Question 2]\\\n",
    "What is the value of a dictionary value with the key 'foo' and the value 42?"
   ]
  },
  {
   "cell_type": "markdown",
   "id": "d9713d84",
   "metadata": {},
   "source": [
    "Answer 2]\\\n",
    "42 "
   ]
  },
  {
   "cell_type": "markdown",
   "id": "c9b5a87e",
   "metadata": {},
   "source": [
    "Question 3]\\\n",
    "What is the most significant distinction between a dictionary and a list?"
   ]
  },
  {
   "cell_type": "markdown",
   "id": "1b0cbe48",
   "metadata": {},
   "source": [
    "Answer 3]\\\n",
    "Dictionary stores values in the form of key an dvalue pair. Whereas a list stores values in the form as items in a sequence."
   ]
  },
  {
   "cell_type": "markdown",
   "id": "cd091438",
   "metadata": {},
   "source": [
    "Querstion 4]\\\n",
    "What happens if you try to access spam['foo'] if spam is {'bar': 100}?"
   ]
  },
  {
   "cell_type": "markdown",
   "id": "af522c72",
   "metadata": {},
   "source": [
    "Answer 4]\\\n",
    "It will show us an error as there is no key as 'foo' in the dictionary spam."
   ]
  },
  {
   "cell_type": "markdown",
   "id": "3235ebf8",
   "metadata": {},
   "source": [
    "Question 5]\\\n",
    "If a dictionary is stored in spam, what is the difference between the expressions &#39;cat&#39; in spam and\n",
    "&#39;cat&#39; in spam.keys()?"
   ]
  },
  {
   "cell_type": "markdown",
   "id": "6416eb92",
   "metadata": {},
   "source": [
    "Answer 5]\\\n",
    "There is no diference between the above two expressions. They will give us the same output.\\\n",
    "i.e. If there exists a key as 'cat' then they both will return True orelse False."
   ]
  },
  {
   "cell_type": "code",
   "execution_count": 48,
   "id": "6557bf2e",
   "metadata": {},
   "outputs": [
    {
     "name": "stdout",
     "output_type": "stream",
     "text": [
      "True\n",
      "True\n"
     ]
    }
   ],
   "source": [
    "spam = {'cat':'meow', 'dog':'bark'}\n",
    "print('cat' in spam)\n",
    "print('cat' in spam.keys())"
   ]
  },
  {
   "cell_type": "markdown",
   "id": "0368e138",
   "metadata": {},
   "source": [
    "Question 6]\\\n",
    "If a dictionary is stored in spam, what is the difference between the expressions &#39;cat&#39; in spam and\n",
    "&#39;cat&#39; in spam.values()?"
   ]
  },
  {
   "cell_type": "markdown",
   "id": "abfab6d1",
   "metadata": {},
   "source": [
    "Answer 6]\\\n",
    "If the dictionary spam contains any key as 'cat' then the first statement will give us an output as True or else False.\\\n",
    "While if the dictionary spam contains any values as 'cat' then the second statement will give us an output as True or else False."
   ]
  },
  {
   "cell_type": "markdown",
   "id": "7f4c543e",
   "metadata": {},
   "source": [
    "Question 7]\\\n",
    "What is a shortcut for the following code?\\\n",
    "if &#39;color&#39; not in spam:\\\n",
    "spam[&#39;color&#39;] = &#39;black&#39;"
   ]
  },
  {
   "cell_type": "markdown",
   "id": "d831a315",
   "metadata": {},
   "source": [
    "Answer 7]\\\n",
    "spam.setdefault('color','black')"
   ]
  },
  {
   "cell_type": "markdown",
   "id": "542b679f",
   "metadata": {},
   "source": [
    "Question 8]\\\n",
    "How do you &quot;pretty print&quot; dictionary values using which module and function?"
   ]
  },
  {
   "cell_type": "markdown",
   "id": "79d35415",
   "metadata": {},
   "source": [
    "Answer 8]\\\n",
    "We need to import the module pprint and call the function pprint.pprint()"
   ]
  },
  {
   "cell_type": "code",
   "execution_count": 44,
   "id": "6b7a3fcb",
   "metadata": {},
   "outputs": [],
   "source": [
    "di1 = {' ': 13, ',': 1, '.': 1, 'A': 1, 'I': 1, 'a': 4, 'c': 3, 'b': 1, 'e': 5, 'd': 3, 'g': 2, 'i':\n",
    "6, 'h': 3, 'k': 2, 'l': 3, 'o': 2, 'n': 4, 'p': 1, 's': 3, 'r': 5, 't': 6, 'w': 2, 'y': 1}"
   ]
  },
  {
   "cell_type": "code",
   "execution_count": 45,
   "id": "72e75606",
   "metadata": {},
   "outputs": [
    {
     "name": "stdout",
     "output_type": "stream",
     "text": [
      "{' ': 13, ',': 1, '.': 1, 'A': 1, 'I': 1, 'a': 4, 'c': 3, 'b': 1, 'e': 5, 'd': 3, 'g': 2, 'i': 6, 'h': 3, 'k': 2, 'l': 3, 'o': 2, 'n': 4, 'p': 1, 's': 3, 'r': 5, 't': 6, 'w': 2, 'y': 1}\n"
     ]
    }
   ],
   "source": [
    "print(di1)"
   ]
  },
  {
   "cell_type": "code",
   "execution_count": 46,
   "id": "b26080c2",
   "metadata": {},
   "outputs": [],
   "source": [
    "import pprint"
   ]
  },
  {
   "cell_type": "code",
   "execution_count": 47,
   "id": "a32230ca",
   "metadata": {},
   "outputs": [
    {
     "name": "stdout",
     "output_type": "stream",
     "text": [
      "{' ': 13,\n",
      " ',': 1,\n",
      " '.': 1,\n",
      " 'A': 1,\n",
      " 'I': 1,\n",
      " 'a': 4,\n",
      " 'b': 1,\n",
      " 'c': 3,\n",
      " 'd': 3,\n",
      " 'e': 5,\n",
      " 'g': 2,\n",
      " 'h': 3,\n",
      " 'i': 6,\n",
      " 'k': 2,\n",
      " 'l': 3,\n",
      " 'n': 4,\n",
      " 'o': 2,\n",
      " 'p': 1,\n",
      " 'r': 5,\n",
      " 's': 3,\n",
      " 't': 6,\n",
      " 'w': 2,\n",
      " 'y': 1}\n"
     ]
    }
   ],
   "source": [
    "pprint.pprint(di1)"
   ]
  }
 ],
 "metadata": {
  "kernelspec": {
   "display_name": "Python 3 (ipykernel)",
   "language": "python",
   "name": "python3"
  },
  "language_info": {
   "codemirror_mode": {
    "name": "ipython",
    "version": 3
   },
   "file_extension": ".py",
   "mimetype": "text/x-python",
   "name": "python",
   "nbconvert_exporter": "python",
   "pygments_lexer": "ipython3",
   "version": "3.9.12"
  }
 },
 "nbformat": 4,
 "nbformat_minor": 5
}
